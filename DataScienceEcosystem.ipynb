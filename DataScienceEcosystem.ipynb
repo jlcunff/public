{
 "cells": [
  {
   "cell_type": "markdown",
   "id": "d69ecba9",
   "metadata": {},
   "source": [
    "# Data Science Tools and Ecosystem"
   ]
  },
  {
   "cell_type": "markdown",
   "id": "fb2032bd",
   "metadata": {},
   "source": [
    "In this notebook, Data Science Tools and Ecosystem are summarized."
   ]
  },
  {
   "cell_type": "markdown",
   "id": "8ebab00c",
   "metadata": {},
   "source": [
    "__Objectives:__\n",
    "- list of popular panguages\n",
    "- list of popular libraries\n",
    "- how to make tables in markdown cells\n",
    "- arithmetic in notebooks"
   ]
  },
  {
   "cell_type": "markdown",
   "id": "6e6605ca",
   "metadata": {},
   "source": [
    "Some of the popular languages that Data Scientists use are:\n",
    "1. Python\n",
    "2. R\n",
    "3. Julia"
   ]
  },
  {
   "cell_type": "markdown",
   "id": "eacae2b3",
   "metadata": {},
   "source": [
    "Some of the commonly used libraries used by Data Scientists include:\n",
    "- pandas\n",
    "- numpy\n",
    "- scikit-learn\n",
    "- seaborn\n",
    "- matplotlib"
   ]
  },
  {
   "cell_type": "markdown",
   "id": "f3f36011",
   "metadata": {},
   "source": [
    "| Data Science Tools |\n",
    "|--------------------|\n",
    "|Jupyter|\n",
    "|R|\n",
    "|VSCode|"
   ]
  },
  {
   "cell_type": "markdown",
   "id": "4c955413",
   "metadata": {},
   "source": [
    "### Below are a few examples of evaluating arithmetic expressions in Python\n",
    "8 + 8 <br>\n",
    "16 * 4 <br>\n",
    "12 / 3"
   ]
  },
  {
   "cell_type": "code",
   "execution_count": 1,
   "id": "8c88e209",
   "metadata": {
    "scrolled": true
   },
   "outputs": [
    {
     "data": {
      "text/plain": [
       "17"
      ]
     },
     "execution_count": 1,
     "metadata": {},
     "output_type": "execute_result"
    }
   ],
   "source": [
    "#This a simple arithmetic expression to mutiply then add integers\n",
    "(3*4)+5"
   ]
  },
  {
   "cell_type": "code",
   "execution_count": 6,
   "id": "7f1db3ce",
   "metadata": {
    "scrolled": true
   },
   "outputs": [
    {
     "data": {
      "text/plain": [
       "'200 min equals to 3.33 hours'"
      ]
     },
     "execution_count": 6,
     "metadata": {},
     "output_type": "execute_result"
    }
   ],
   "source": [
    "#This will convert 200 minutes to hours by diving by 60\n",
    "f'{200} min equals to {200/60:.2f} hours'"
   ]
  },
  {
   "cell_type": "markdown",
   "id": "f5acc401",
   "metadata": {},
   "source": [
    "## Author\n",
    "Jerome Le Cunff"
   ]
  }
 ],
 "metadata": {
  "kernelspec": {
   "display_name": "Python 3 (ipykernel)",
   "language": "python",
   "name": "python3"
  },
  "language_info": {
   "codemirror_mode": {
    "name": "ipython",
    "version": 3
   },
   "file_extension": ".py",
   "mimetype": "text/x-python",
   "name": "python",
   "nbconvert_exporter": "python",
   "pygments_lexer": "ipython3",
   "version": "3.9.13"
  }
 },
 "nbformat": 4,
 "nbformat_minor": 5
}
